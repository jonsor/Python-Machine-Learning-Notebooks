{
 "cells": [
  {
   "cell_type": "markdown",
   "metadata": {},
   "source": [
    "# Python Basics\n",
    "\n",
    "Python is an **interpreted, object-oriented, high-level programming language** with dynamic semantics. Its high-level built in data structures, combined with **dynamic typing** and **dynamic binding**, make it very attractive for Rapid Application Development, as well as for use as a scripting or glue language to connect existing components together. Python's simple, **easy to learn** syntax emphasizes **readability** and therefore reduces the cost of program maintenance. Python supports **modules and packages**, which encourages program **modularity and code reuse**. The Python interpreter and the extensive standard library are available in source or binary form without charge for all major platforms, and can be freely distributed. __[ref](https://www.python.org/doc/essays/blurb/)__"
   ]
  },
  {
   "cell_type": "markdown",
   "metadata": {},
   "source": [
    "## Installing and importing libraries\n",
    "\n",
    "A library is a collection of functions and methods that are not included in the base version of Python. In Python it is (for the most part) very easy to install and use libraries."
   ]
  },
  {
   "cell_type": "code",
   "execution_count": 1,
   "metadata": {},
   "outputs": [
    {
     "name": "stdout",
     "output_type": "stream",
     "text": [
      "Requirement already satisfied: scikit-learn in c:\\users\\jsors\\anaconda3\\lib\\site-packages (0.19.2)\n"
     ]
    },
    {
     "name": "stderr",
     "output_type": "stream",
     "text": [
      "You are using pip version 18.1, however version 19.0.1 is available.\n",
      "You should consider upgrading via the 'python -m pip install --upgrade pip' command.\n"
     ]
    },
    {
     "name": "stdout",
     "output_type": "stream",
     "text": [
      "Requirement already satisfied: numpy in c:\\users\\jsors\\anaconda3\\lib\\site-packages (1.15.4)\n"
     ]
    },
    {
     "name": "stderr",
     "output_type": "stream",
     "text": [
      "You are using pip version 18.1, however version 19.0.1 is available.\n",
      "You should consider upgrading via the 'python -m pip install --upgrade pip' command.\n"
     ]
    }
   ],
   "source": [
    "#Installing sci-kit learn and numpy\n",
    "\n",
    "#Machine learning library\n",
    "!pip install scikit-learn\n",
    "\n",
    "#Math and data structures\n",
    "!pip install numpy\n",
    "\n",
    "#Importing libraries\n",
    "import numpy as np #Import all of numpy with namespace np\n",
    "from sklearn.linear_model import LinearRegression #Import linear regression from sklearn"
   ]
  },
  {
   "cell_type": "markdown",
   "metadata": {},
   "source": [
    "## Syntax\n",
    "\n",
    "Python has no mandatory termintaion characters (;), blocks are specified by indentation.\n",
    "\n",
    "Comments start with a hashtag (#), or are encapsulated by a ''' comment ''' block.\n",
    "\n"
   ]
  },
  {
   "cell_type": "markdown",
   "metadata": {},
   "source": [
    "## Variables and Assignments"
   ]
  },
  {
   "cell_type": "code",
   "execution_count": 2,
   "metadata": {},
   "outputs": [
    {
     "name": "stdout",
     "output_type": "stream",
     "text": [
      "<class 'str'>\n"
     ]
    }
   ],
   "source": [
    "a = 42 # integer\n",
    "a += 1 # increment by one\n",
    "\n",
    "b = 3.14 # float\n",
    "do = 3.1423985892358923895239858923589289358922359233463462309582350982350982350925309823509835892538925398 # float\n",
    "c = \"Hello\" # String\n",
    "d = True # Boolean\n",
    "\n",
    "print(type(c))"
   ]
  },
  {
   "cell_type": "markdown",
   "metadata": {},
   "source": [
    "## Printing"
   ]
  },
  {
   "cell_type": "code",
   "execution_count": 3,
   "metadata": {},
   "outputs": [
    {
     "name": "stdout",
     "output_type": "stream",
     "text": [
      "Hello World!\n",
      "10\n",
      "number 1:  5 number 2:  25\n",
      "The number: 10\n"
     ]
    }
   ],
   "source": [
    "print(\"Hello World!\")\n",
    "\n",
    "print(10)\n",
    "\n",
    "print(\"number 1: \", 5, \"number 2: \", 25)\n",
    "\n",
    "print(\"The number: \" + str(10))"
   ]
  },
  {
   "cell_type": "markdown",
   "metadata": {},
   "source": [
    "## Getting help"
   ]
  },
  {
   "cell_type": "code",
   "execution_count": 4,
   "metadata": {},
   "outputs": [],
   "source": [
    "#print(help(5)) # Explains how an object works\n",
    "\n",
    "#print(dir(5)) # Shows all the methods of an object\n",
    "\n",
    "#print(abs.__doc__) # Shows documentation of an object"
   ]
  },
  {
   "cell_type": "markdown",
   "metadata": {},
   "source": [
    "## Basic calculation"
   ]
  },
  {
   "cell_type": "code",
   "execution_count": 5,
   "metadata": {},
   "outputs": [
    {
     "name": "stdout",
     "output_type": "stream",
     "text": [
      "7\n",
      "24.0\n",
      "0.6666666666666666\n",
      "abcabcabcabcabcabcabcabcabcabc\n",
      "128\n",
      "Hello World!\n",
      "True\n",
      "True\n",
      "True\n",
      "False\n"
     ]
    }
   ],
   "source": [
    "print(3+4) # Addition\n",
    "print(1.6 * 15) # Multiplication\n",
    "print(6/9) # Division\n",
    "print(10* \"abc\") # String multiplication\n",
    "print(2**7) # Exponentiation\n",
    "\n",
    "my_string = \"Hello\" + ' ' + \"World!\" # Concatenating string\n",
    "print(my_string)\n",
    "print(500 == 500) # Equals\n",
    "print(\"House\" != \"Car\") # Not equal\n",
    "print(100 >= 100) # More or equal to\n",
    "print(5 < 1) # Less than"
   ]
  },
  {
   "cell_type": "markdown",
   "metadata": {},
   "source": [
    "## Data Structures\n",
    "\n",
    "The data structures in python are:\n",
    "\n",
    "**Lists:** One dimensional arrays\n",
    "\n",
    "**Dictionaries:** Associative arrays (Hash tables)\n",
    "\n",
    "**Tuples:** Immutable one-dimensional arrays\n",
    "\n",
    "Python lists can be of any type, and you can mix types such as strings and integers "
   ]
  },
  {
   "cell_type": "markdown",
   "metadata": {},
   "source": [
    "### Lists"
   ]
  },
  {
   "cell_type": "code",
   "execution_count": 6,
   "metadata": {},
   "outputs": [
    {
     "name": "stdout",
     "output_type": "stream",
     "text": [
      "mixed_list:  ['New string', 10, [1, 2, 6.123, 6000, 9.9999999231, 5], ('a', 'tuple'), 'New item']\n",
      "squares_list:  [1, 4, 9, 16, 25, 36, 49, 64, 81, 100]\n",
      "True\n",
      "True\n",
      "[1, 2, 6.123, 6000, 9.9999999231, 5]\n",
      "[500, 2, 6.123, 6000, 9.9999999231, 5]\n"
     ]
    }
   ],
   "source": [
    "# Make a list\n",
    "integer_list = [1, 2, 3, 4, 5, 6, 7, 8, 9, 10]\n",
    "\n",
    "number_list = [1, 2, 6.123,6000, 9.9999999231, 5]\n",
    "\n",
    "mixed_list = [\"String\", 10, number_list, (\"a\", \"tuple\")]\n",
    "\n",
    "squares_list = [x**2 for x in range(1, 11)]\n",
    "\n",
    "# Change item in list\n",
    "mixed_list[0] = \"New string\"\n",
    "\n",
    "#Add item to list\n",
    "mixed_list.append(\"New item\")\n",
    "\n",
    "print(\"mixed_list: \", mixed_list)\n",
    "print(\"squares_list: \", squares_list)\n",
    "\n",
    "# Conditional tests with lists\n",
    "print(\"New string\" in mixed_list)\n",
    "print(\"Other string\" not in mixed_list)\n",
    "\n",
    "# Simple statistics\n",
    "smallest_number = min(number_list)\n",
    "largest_number = max(number_list)\n",
    "sum_of_all_numbers_in_list = sum(number_list)\n",
    "\n",
    "# Copy list\n",
    "mixed_list_copy = number_list[:]\n",
    "mixed_list_copy[0] = 500\n",
    "\n",
    "print(number_list)\n",
    "print(mixed_list_copy)"
   ]
  },
  {
   "cell_type": "markdown",
   "metadata": {},
   "source": [
    "### Tuples and dictionaries"
   ]
  },
  {
   "cell_type": "code",
   "execution_count": 7,
   "metadata": {},
   "outputs": [
    {
     "name": "stdout",
     "output_type": "stream",
     "text": [
      "3\n"
     ]
    }
   ],
   "source": [
    "# Create Tuple\n",
    "my_tuple = (\"a\", \"tuple\")\n",
    "\n",
    "# Dictionaries\n",
    "my_dict = {\"Key 1\": \"Value 1\", 2: 3, \"pi\": 3.14}\n",
    "my_dict[\"pi\"] = 3.18\n",
    "print(my_dict[2])"
   ]
  },
  {
   "cell_type": "markdown",
   "metadata": {},
   "source": [
    "You can access **array ranges** using a colon(:).\n",
    "The number before the colon specifies where the array range begins, and the one after specifies where it ends. So some_list[3:12] will return all the items between index 3 and 12."
   ]
  },
  {
   "cell_type": "code",
   "execution_count": 8,
   "metadata": {},
   "outputs": [
    {
     "name": "stdout",
     "output_type": "stream",
     "text": [
      "[1, 2, 3, 4, 5, 6, 7, 8, 9, 10]\n",
      "[4, 5, 6, 7, 8]\n",
      "8\n",
      "[8, 9]\n",
      "[1, 3, 5, 7, 9]\n",
      "[1, 4, 7, 10]\n",
      "[2, 4, 6]\n"
     ]
    }
   ],
   "source": [
    "\n",
    "# Lists all items\n",
    "print(integer_list[:])\n",
    "# Lists all items from index 0 to 2\n",
    "print(integer_list[3:8])\n",
    "\n",
    "# Negative indexes count from the last item backwards\n",
    "#(thus -1 is the last item)\n",
    "print(integer_list[-3])\n",
    "print(integer_list[-3:-1])\n",
    "\n",
    "# Two colons together can be used to have python step in N increments\n",
    "print(integer_list[::2])\n",
    "print(integer_list[::3])\n",
    "\n",
    "# Combined\n",
    "print(integer_list[1:6:2])"
   ]
  },
  {
   "cell_type": "markdown",
   "metadata": {},
   "source": [
    "# Statements and loops"
   ]
  },
  {
   "cell_type": "code",
   "execution_count": 9,
   "metadata": {
    "scrolled": false
   },
   "outputs": [
    {
     "name": "stdout",
     "output_type": "stream",
     "text": [
      "nei\n",
      "3\n",
      "4\n",
      "5\n",
      "6\n",
      "7\n",
      "8\n",
      "9\n",
      "end:  9\n",
      "New string\n",
      "10\n",
      "[1, 2, 6.123, 6000, 9.9999999231, 5]\n",
      "('a', 'tuple')\n",
      "New item\n",
      "New string\n",
      "10\n",
      "[1, 2, 6.123, 6000, 9.9999999231, 5]\n",
      "('a', 'tuple')\n",
      "New item\n",
      "Key:  Key 1  Value:  Value 1\n",
      "Key:  2  Value:  3\n",
      "Key:  pi  Value:  3.18\n",
      "0\n",
      "1\n",
      "2\n",
      "3\n",
      "4\n",
      "5\n",
      "6\n",
      "7\n",
      "8\n",
      "9\n"
     ]
    }
   ],
   "source": [
    "# If else statement\n",
    "\n",
    "i = 4\n",
    "if i == 5:\n",
    "    print(\"hei\")\n",
    "else:\n",
    "    print(\"nei\")\n",
    "\n",
    "\n",
    "# For loop in range\n",
    "for x in range(3, 10):\n",
    "    print(x)\n",
    "else:\n",
    "    print(\"end: \", x)\n",
    "\n",
    "# For loop on list\n",
    "for element in mixed_list:\n",
    "    print(element)\n",
    "\n",
    "for j in range(len(mixed_list)):\n",
    "    print(mixed_list[j])\n",
    "    \n",
    "# Looping dictionary\n",
    "# You can also loop keys with dict.keys(), \n",
    "#and all values with dict.values\n",
    "for key, value in my_dict.items():\n",
    "    print(\"Key: \", key, \" Value: \", value)\n",
    "    \n",
    "# While loop\n",
    "d = 0\n",
    "while d < 10:\n",
    "    print(d)\n",
    "    d += 1\n",
    "    "
   ]
  },
  {
   "cell_type": "markdown",
   "metadata": {},
   "source": [
    "# Functions\n",
    "\n",
    "Functions are declared with the def keyword. Parameters are passed by reference, and can be given default values.\n",
    "Functions can return multiple variables as tuples."
   ]
  },
  {
   "cell_type": "code",
   "execution_count": 10,
   "metadata": {},
   "outputs": [
    {
     "name": "stdout",
     "output_type": "stream",
     "text": [
      "(15, 'hello Hello', 5.5)\n"
     ]
    }
   ],
   "source": [
    "def my_func(var1 = 10, some_string = \"Hello\"):\n",
    "    x = 5 + var1\n",
    "    y = \"hello \" +  some_string\n",
    "    z = 5.5\n",
    "    \n",
    "    return x, y, z\n",
    "\n",
    "print(my_func())\n",
    "\n",
    "\n",
    "# Lambda functions, single statement functions\n",
    "# Same as def lambda_func(x): return x+5\n",
    "\n",
    "lambda_func = lambda x: x+5"
   ]
  },
  {
   "cell_type": "markdown",
   "metadata": {},
   "source": [
    "# Classes"
   ]
  },
  {
   "cell_type": "code",
   "execution_count": 11,
   "metadata": {},
   "outputs": [
    {
     "name": "stdout",
     "output_type": "stream",
     "text": [
      "50\n"
     ]
    }
   ],
   "source": [
    "class My_class:\n",
    "    \n",
    "    def __init__(self, x = 10):\n",
    "        self.x = x\n",
    "        \n",
    "    def func(self):\n",
    "        print(self.x)\n",
    "        \n",
    "\n",
    "my_class = My_class(50)\n",
    "\n",
    "my_class.func()"
   ]
  },
  {
   "cell_type": "markdown",
   "metadata": {},
   "source": [
    "**Class inheritance:**"
   ]
  },
  {
   "cell_type": "code",
   "execution_count": 12,
   "metadata": {},
   "outputs": [
    {
     "name": "stdout",
     "output_type": "stream",
     "text": [
      "Calling child constructor\n",
      "Calling child method\n",
      "Calling parent method\n",
      "Parent attribute : 200\n"
     ]
    }
   ],
   "source": [
    "\n",
    "class Parent:  \n",
    "    \n",
    "    def __init__(self):\n",
    "        print(\"Calling parent constructor\")\n",
    "        \n",
    "    def parentMethod(self):\n",
    "        print('Calling parent method')\n",
    "        \n",
    "    def setAttr(self, attr):\n",
    "        Parent.parentAttr = attr\n",
    "        \n",
    "    def getAttr(self):\n",
    "        print(\"Parent attribute :\", Parent.parentAttr)\n",
    "\n",
    "class Child(Parent): # define child class\n",
    "    def __init__(self):\n",
    "        print(\"Calling child constructor\")\n",
    "        \n",
    "    def childMethod(self):\n",
    "        print('Calling child method')\n",
    "\n",
    "c = Child()          # instance of child\n",
    "c.childMethod()      # child calls its method\n",
    "c.parentMethod()     # calls parent's method\n",
    "c.setAttr(200)       # again call parent's method\n",
    "c.getAttr()          # again call parent's method"
   ]
  },
  {
   "cell_type": "markdown",
   "metadata": {},
   "source": [
    "# Reading from keyboard"
   ]
  },
  {
   "cell_type": "code",
   "execution_count": 2,
   "metadata": {},
   "outputs": [
    {
     "name": "stdout",
     "output_type": "stream",
     "text": [
      "Enter your name:Data  We will test our model on a dataset with 1000 positive and 1000 negative movie reviews. Each document is a review and consists of one or more sentences.  We split the data into a training set containing 90% of the reviews and a test set with the remaining 10%. As the name implies, the former is used for training the model with our train function, while the latter will give us an idea how well the model generalizes to unseen data.  Once that is done, we need some sort of baseline to compare the accuracy of our model with, otherwise we can’t really tell how good it is doing. Since this is a binary classification task, we at least know that random guessing should \n",
      "Hello, Data  We will test our model on a dataset with 1000 positive and 1000 negative movie reviews. Each document is a review and consists of one or more sentences.  We split the data into a training set containing 90% of the reviews and a test set with the remaining 10%. As the name implies, the former is used for training the model with our train function, while the latter will give us an idea how well the model generalizes to unseen data.  Once that is done, we need some sort of baseline to compare the accuracy of our model with, otherwise we can’t really tell how good it is doing. Since this is a binary classification task, we at least know that random guessing should \n"
     ]
    }
   ],
   "source": [
    "x = input('Enter your name:')\n",
    "print('Hello, ' + x)"
   ]
  },
  {
   "cell_type": "markdown",
   "metadata": {},
   "source": [
    "# Writing to file"
   ]
  },
  {
   "cell_type": "code",
   "execution_count": 14,
   "metadata": {},
   "outputs": [],
   "source": [
    "file = open(\"text.txt\",\"w\") \n",
    " \n",
    "file.write(\"3, 4, 5,6 ,7 , 8, 9, 0, 4, 3\\n\")\n",
    "file.write(\"a, c, d,f ,g , h, j, k, l, i\")\n",
    " \n",
    "file.close() "
   ]
  },
  {
   "cell_type": "markdown",
   "metadata": {},
   "source": [
    "# Reading from files"
   ]
  },
  {
   "cell_type": "code",
   "execution_count": 15,
   "metadata": {},
   "outputs": [
    {
     "name": "stdout",
     "output_type": "stream",
     "text": [
      "3, 4, 5,6 ,7 , 8, 9, 0, 4, 3\n",
      "a, c, d,f ,g , h, j, k, l, i\n",
      "[['3', ' 4', ' 5', '6 ', '7 ', ' 8', ' 9', ' 0', ' 4', ' 3'], ['a', ' c', ' d', 'f ', 'g ', ' h', ' j', ' k', ' l', ' i']]\n"
     ]
    }
   ],
   "source": [
    "# Reading entire file in one go, can fail with large files\n",
    "file = open(\"text.txt\", \"r\") \n",
    "print(file.read())\n",
    "\n",
    "# Read file line by line\n",
    "data = []\n",
    "with open(\"text.txt\", 'r') as f:\n",
    "    for line in f:\n",
    "        new_instance = line.strip().split(',')\n",
    "        data.append(new_instance)\n",
    "        \n",
    "print(data)"
   ]
  },
  {
   "cell_type": "markdown",
   "metadata": {},
   "source": [
    "# Exceptions\n",
    "\n",
    "Exceptions help you respond to errors that can occur in your code"
   ]
  },
  {
   "cell_type": "code",
   "execution_count": 16,
   "metadata": {},
   "outputs": [
    {
     "name": "stdout",
     "output_type": "stream",
     "text": [
      "type an integer: 1\n",
      "You did it!  1\n"
     ]
    }
   ],
   "source": [
    "number = input(\"type an integer: \")\n",
    "\n",
    "try:\n",
    "    number = int(number)\n",
    "except ValueError:\n",
    "    print(\"Invalid input\")\n",
    "else:\n",
    "    print(\"You did it! \" , number)"
   ]
  },
  {
   "cell_type": "markdown",
   "metadata": {},
   "source": [
    "# Useful libraries"
   ]
  },
  {
   "cell_type": "markdown",
   "metadata": {},
   "source": [
    "# Numpy\n",
    "\n",
    "A library for large multi-dimensional arrays and matrices, along with mathematcal functions to operate the arrays and matrices.\n",
    "\n",
    "__[reference 1](https://www.tutorialspoint.com/numpy/numpy_introduction.htm)__\n",
    "\n",
    "__[reference 2](https://docs.scipy.org/doc/numpy-1.15.0/user/quickstart.html#quickstart-shape-manipulation)__\n"
   ]
  },
  {
   "cell_type": "markdown",
   "metadata": {},
   "source": [
    "## Operations using NumPy\n",
    "\n",
    "Using NumPy, a developer can perform the following operations −\n",
    "- Mathematical and logical operations on arrays.\n",
    "- Fourier transforms and routines for shape manipulation.\n",
    "- Operations related to linear algebra. NumPy has in-built functions for linear algebra and random number generation.\n"
   ]
  },
  {
   "cell_type": "markdown",
   "metadata": {},
   "source": [
    "### Environment"
   ]
  },
  {
   "cell_type": "code",
   "execution_count": 17,
   "metadata": {},
   "outputs": [
    {
     "name": "stdout",
     "output_type": "stream",
     "text": [
      "Requirement already satisfied: numpy in c:\\users\\jsors\\anaconda3\\lib\\site-packages (1.15.4)\n"
     ]
    },
    {
     "name": "stderr",
     "output_type": "stream",
     "text": [
      "You are using pip version 18.1, however version 19.0.1 is available.\n",
      "You should consider upgrading via the 'python -m pip install --upgrade pip' command.\n"
     ]
    }
   ],
   "source": [
    "# Install\n",
    "!pip install numpy\n",
    "\n",
    "# Imprting\n",
    "import numpy as np"
   ]
  },
  {
   "cell_type": "markdown",
   "metadata": {},
   "source": [
    "### Ndarray Object\n",
    "\n",
    "NumPy’s array class is called ndarray. This object is not the same as the standard array.array class in python. The ndarray object handles multi-dimensional arrays, and offers more functionality. A basic numpy array does not support **multiple data types**, for multiple arrays with multiple data types (__[structured arrays](https://docs.scipy.org/doc/numpy-1.10.4/user/basics.rec.html)__) can be used."
   ]
  },
  {
   "cell_type": "code",
   "execution_count": 18,
   "metadata": {},
   "outputs": [
    {
     "name": "stdout",
     "output_type": "stream",
     "text": [
      "[1.+0.j 2.+0.j 3.+0.j]\n"
     ]
    }
   ],
   "source": [
    "# Create array\n",
    "a = np.array([1,2,3]) \n",
    "\n",
    "# More than one dimension\n",
    "a = np.array([[1, 2], [3, 4]]) \n",
    "\n",
    "# Define minimum dimensions \n",
    "a = np.array([1, 2, 3, 4, 5], ndmin = 2)\n",
    "\n",
    "# Define data type\n",
    "a = np.array([1, 2, 3], dtype = complex)\n",
    "\n",
    "print(a)\n"
   ]
  },
  {
   "cell_type": "markdown",
   "metadata": {},
   "source": [
    "### Array Creation Routines"
   ]
  },
  {
   "cell_type": "code",
   "execution_count": 19,
   "metadata": {},
   "outputs": [
    {
     "name": "stdout",
     "output_type": "stream",
     "text": [
      "[0.         0.03030303 0.06060606 0.09090909 0.12121212 0.15151515\n",
      " 0.18181818 0.21212121 0.24242424 0.27272727 0.3030303  0.33333333\n",
      " 0.36363636 0.39393939 0.42424242 0.45454545 0.48484848 0.51515152\n",
      " 0.54545455 0.57575758 0.60606061 0.63636364 0.66666667 0.6969697\n",
      " 0.72727273 0.75757576 0.78787879 0.81818182 0.84848485 0.87878788\n",
      " 0.90909091 0.93939394 0.96969697 1.         1.03030303 1.06060606\n",
      " 1.09090909 1.12121212 1.15151515 1.18181818 1.21212121 1.24242424\n",
      " 1.27272727 1.3030303  1.33333333 1.36363636 1.39393939 1.42424242\n",
      " 1.45454545 1.48484848 1.51515152 1.54545455 1.57575758 1.60606061\n",
      " 1.63636364 1.66666667 1.6969697  1.72727273 1.75757576 1.78787879\n",
      " 1.81818182 1.84848485 1.87878788 1.90909091 1.93939394 1.96969697\n",
      " 2.         2.03030303 2.06060606 2.09090909 2.12121212 2.15151515\n",
      " 2.18181818 2.21212121 2.24242424 2.27272727 2.3030303  2.33333333\n",
      " 2.36363636 2.39393939 2.42424242 2.45454545 2.48484848 2.51515152\n",
      " 2.54545455 2.57575758 2.60606061 2.63636364 2.66666667 2.6969697\n",
      " 2.72727273 2.75757576 2.78787879 2.81818182 2.84848485 2.87878788\n",
      " 2.90909091 2.93939394 2.96969697 3.        ]\n"
     ]
    }
   ],
   "source": [
    "# zeroes fills an array with zeroes\n",
    "a = np.zeros((4,5))\n",
    "\n",
    "# ones fills an array with ones\n",
    "a = np.ones((2,4,6))\n",
    "\n",
    "# empty fills an array with random content\n",
    "a = np.empty((2,4))\n",
    "\n",
    "# random fills an array with random numbers\n",
    "a = np.random.random((2,3))* 10\n",
    "\n",
    "# Arange fills array with a sequence\n",
    "a = np.arange(4, 11)\n",
    "\n",
    "# Steps in sequence can be defined with a third parameter\n",
    "a = np.arange(10, 25, 5)\n",
    "a = np.arange(0, 10, 0.1)\n",
    "\n",
    "# linspace is similar to arange. But it uses unlike arange the\n",
    "# third variable to define the number of floating point variables\n",
    "# in the range\n",
    "\n",
    "a = np.linspace(0, 3, 100)\n",
    "print(a)\n"
   ]
  },
  {
   "cell_type": "markdown",
   "metadata": {},
   "source": [
    "Here are some important attributes of the **ndarray** object:"
   ]
  },
  {
   "cell_type": "code",
   "execution_count": 20,
   "metadata": {},
   "outputs": [
    {
     "name": "stdout",
     "output_type": "stream",
     "text": [
      "[[ 0  1  2  3  4]\n",
      " [ 5  6  7  8  9]\n",
      " [10 11 12 13 14]\n",
      " [15 16 17 18 19]]\n",
      "shape:  (4, 5)\n",
      "ndim:  2\n",
      "dtype:  int32\n",
      "itemsize:  4\n",
      "size:  20\n"
     ]
    }
   ],
   "source": [
    "a = np.arange(20).reshape(4, 5)\n",
    "print(a)\n",
    "\n",
    "# Shape returns the dimensions of an array. For a 2 dimensional array\n",
    "# it would return a tuple with (n rows, n columns)\n",
    "print(\"shape: \", a.shape)\n",
    "\n",
    "# ndim returns the number of dimensions in an array\n",
    "print(\"ndim: \", a.ndim)\n",
    "\n",
    "# dtype returns the data type of the elements of an array\n",
    "print(\"dtype: \", a.dtype.name)\n",
    "\n",
    "# The number of bytes for each element in an array\n",
    "print(\"itemsize: \", a.itemsize)\n",
    "\n",
    "# The total number of elements in an array\n",
    "print(\"size: \", a.size)"
   ]
  },
  {
   "cell_type": "markdown",
   "metadata": {},
   "source": [
    "### Data types\n",
    "\n",
    "Here is a list of data types that numpy supports.\n",
    "(https://www.tutorialspoint.com/numpy/numpy_data_types.htm)"
   ]
  },
  {
   "cell_type": "markdown",
   "metadata": {},
   "source": [
    "### Basic Operations\n",
    "\n",
    "Arithmetic operators on arrays apply elementwise. A new array is created and filled with the result."
   ]
  },
  {
   "cell_type": "code",
   "execution_count": 21,
   "metadata": {},
   "outputs": [
    {
     "name": "stdout",
     "output_type": "stream",
     "text": [
      "[ True  True False False]\n",
      "[[5 4]\n",
      " [3 4]]\n"
     ]
    }
   ],
   "source": [
    "a = np.array( [20,30,40,50] )\n",
    "b = np.array( [0, 1, 2, 3] )\n",
    "\n",
    "# Addition\n",
    "c = a+b\n",
    "\n",
    "# Exponentation\n",
    "c = b**2\n",
    "\n",
    "# Multiplication\n",
    "c = b*5\n",
    "\n",
    "# Sinus\n",
    "c = 10*np.sin(a)\n",
    "\n",
    "# Less than\n",
    "c = a<35\n",
    "print(c)\n",
    "\n",
    "# Matrix product\n",
    "A = np.array( [[1,1],\n",
    "               [0,1]] )\n",
    "\n",
    "B = np.array( [[2,0],\n",
    "               [3,4]] )\n",
    "C = A @ B\n",
    "# or\n",
    "C = A.dot(B)\n",
    "\n",
    "print(C)\n"
   ]
  },
  {
   "cell_type": "markdown",
   "metadata": {},
   "source": [
    "Universal functions also operate elementwise in numpy."
   ]
  },
  {
   "cell_type": "code",
   "execution_count": 22,
   "metadata": {},
   "outputs": [
    {
     "name": "stdout",
     "output_type": "stream",
     "text": [
      "[0 1 2 3 4]\n",
      "[ 1.          2.71828183  7.3890561  20.08553692 54.59815003]\n",
      "[0.         1.         1.41421356 1.73205081 2.        ]\n",
      "[ 1.          0.54030231 -0.41614684 -0.9899925  -0.65364362]\n"
     ]
    }
   ],
   "source": [
    "a = np.arange(5)\n",
    "print(a)\n",
    "print(np.exp(a))\n",
    "print(np.sqrt(a))\n",
    "print(np.cos(a))"
   ]
  },
  {
   "cell_type": "markdown",
   "metadata": {},
   "source": [
    "### Slicing and iterating\n",
    "\n",
    "One-dimensional arrays can be indexed, sliced and iterated over, much like lists(above) and other Python sequences."
   ]
  },
  {
   "cell_type": "code",
   "execution_count": 23,
   "metadata": {},
   "outputs": [
    {
     "name": "stdout",
     "output_type": "stream",
     "text": [
      "[2 3]\n",
      "[4 3 2 1 0]\n"
     ]
    }
   ],
   "source": [
    "print(a[2:4])\n",
    "print(a[ : :-1])"
   ]
  },
  {
   "cell_type": "markdown",
   "metadata": {},
   "source": [
    "For multidimensional arrays, each dimension needs to be separated by a comma."
   ]
  },
  {
   "cell_type": "code",
   "execution_count": 24,
   "metadata": {},
   "outputs": [
    {
     "name": "stdout",
     "output_type": "stream",
     "text": [
      "23\n",
      "[ 1 11 21 31 41]\n",
      "[[ 1  2]\n",
      " [11 12]\n",
      " [21 22]]\n",
      "[[32 33]\n",
      " [42 43]]\n"
     ]
    }
   ],
   "source": [
    "b = np.array([[ 0,  1,  2,  3],\n",
    "               [10, 11, 12, 13],\n",
    "               [20, 21, 22, 23],\n",
    "               [30, 31, 32, 33],\n",
    "               [40, 41, 42, 43]])\n",
    "\n",
    "# Indexing 3rd row and 4th column (starts at 0)\n",
    "print(b[2,3])\n",
    "\n",
    "# each row in the second column of b\n",
    "print(b[0:, 1])\n",
    "\n",
    "# The first second and third elements in the first to the third \n",
    "# column of b\n",
    "print(b[0:3, 1:3])\n",
    "print(b[3:, 2:])"
   ]
  },
  {
   "cell_type": "markdown",
   "metadata": {},
   "source": [
    "Iterating over multidimensional arrays is done with respect to the first axis:"
   ]
  },
  {
   "cell_type": "code",
   "execution_count": 25,
   "metadata": {},
   "outputs": [
    {
     "name": "stdout",
     "output_type": "stream",
     "text": [
      "[0 1 2 3]\n",
      "[10 11 12 13]\n",
      "[20 21 22 23]\n",
      "[30 31 32 33]\n",
      "[40 41 42 43]\n",
      "0\n",
      "1\n",
      "2\n",
      "3\n",
      "10\n",
      "11\n",
      "12\n",
      "13\n",
      "20\n",
      "21\n",
      "22\n",
      "23\n",
      "30\n",
      "31\n",
      "32\n",
      "33\n",
      "40\n",
      "41\n",
      "42\n",
      "43\n"
     ]
    }
   ],
   "source": [
    "for row in b:\n",
    "    print(row)\n",
    "    \n",
    "# .flat can be used to flatten a multidimensional array into a\n",
    "# one-dimensional array\n",
    "for element in b.flat:\n",
    "    print(element)"
   ]
  },
  {
   "cell_type": "markdown",
   "metadata": {},
   "source": [
    "## Shape manipulation"
   ]
  },
  {
   "cell_type": "code",
   "execution_count": 26,
   "metadata": {},
   "outputs": [
    {
     "name": "stdout",
     "output_type": "stream",
     "text": [
      "[[5. 3. 8. 8.]\n",
      " [0. 2. 3. 3.]\n",
      " [4. 9. 6. 8.]]\n",
      "(3, 4)\n",
      "[5. 3. 8. 8. 0. 2. 3. 3. 4. 9. 6. 8.]\n",
      "[[5. 3. 8. 8.]\n",
      " [0. 2. 3. 3.]\n",
      " [4. 9. 6. 8.]]\n",
      "[5. 3. 8. 8. 0. 2. 3. 3. 4. 9. 6. 8.]\n"
     ]
    }
   ],
   "source": [
    "a = np.floor(np.random.random((3,4))*10)\n",
    "print(a)\n",
    "print(a.shape)\n",
    "\n",
    "# Flattens the array\n",
    "a = a.ravel()\n",
    "print(a)\n",
    "\n",
    "# Reshapes the array\n",
    "b = a.reshape(3, 4)\n",
    "print(b)\n",
    "\n",
    "# Transpose the array\n",
    "b = a.T\n",
    "print(b)"
   ]
  },
  {
   "cell_type": "markdown",
   "metadata": {},
   "source": [
    "# Matplotlib\n",
    "\n",
    "Data visualization library for python. Great for making visual representations of data.\n",
    "\n",
    "matplotlib.pyplot is a collection of command style functions that make matplotlib work like MATLAB. Each pyplot function makes some change to a figure: e.g., creates a figure, creates a plotting area in a figure, plots some lines in a plotting area, decorates the plot with labels, etc.\n",
    "\n",
    "__[Reference](https://matplotlib.org/tutorials/introductory/pyplot.html)__"
   ]
  },
  {
   "cell_type": "code",
   "execution_count": 27,
   "metadata": {},
   "outputs": [
    {
     "name": "stdout",
     "output_type": "stream",
     "text": [
      "Requirement already satisfied: matplotlib in c:\\users\\jsors\\anaconda3\\lib\\site-packages (2.2.3)\n",
      "Requirement already satisfied: pytz in c:\\users\\jsors\\anaconda3\\lib\\site-packages (from matplotlib) (2018.4)\n",
      "Requirement already satisfied: numpy>=1.7.1 in c:\\users\\jsors\\anaconda3\\lib\\site-packages (from matplotlib) (1.15.4)\n",
      "Requirement already satisfied: cycler>=0.10 in c:\\users\\jsors\\anaconda3\\lib\\site-packages (from matplotlib) (0.10.0)\n",
      "Requirement already satisfied: kiwisolver>=1.0.1 in c:\\users\\jsors\\anaconda3\\lib\\site-packages (from matplotlib) (1.0.1)\n",
      "Requirement already satisfied: six>=1.10 in c:\\users\\jsors\\anaconda3\\lib\\site-packages (from matplotlib) (1.11.0)\n",
      "Requirement already satisfied: pyparsing!=2.0.4,!=2.1.2,!=2.1.6,>=2.0.1 in c:\\users\\jsors\\anaconda3\\lib\\site-packages (from matplotlib) (2.2.0)\n",
      "Requirement already satisfied: python-dateutil>=2.1 in c:\\users\\jsors\\anaconda3\\lib\\site-packages (from matplotlib) (2.7.3)\n",
      "Requirement already satisfied: setuptools in c:\\users\\jsors\\anaconda3\\lib\\site-packages (from kiwisolver>=1.0.1->matplotlib) (40.5.0)\n"
     ]
    },
    {
     "name": "stderr",
     "output_type": "stream",
     "text": [
      "You are using pip version 18.1, however version 19.0.1 is available.\n",
      "You should consider upgrading via the 'python -m pip install --upgrade pip' command.\n"
     ]
    }
   ],
   "source": [
    "# Installation and importing\n",
    "!pip install matplotlib\n",
    "import matplotlib.pyplot as plt\n",
    "%matplotlib inline "
   ]
  },
  {
   "cell_type": "markdown",
   "metadata": {},
   "source": [
    "## Basic plot"
   ]
  },
  {
   "cell_type": "code",
   "execution_count": 28,
   "metadata": {},
   "outputs": [
    {
     "data": {
      "image/png": "[encoded data removed]",
      "text/plain": [
       "<Figure size 432x288 with 1 Axes>"
      ]
     },
     "metadata": {},
     "output_type": "display_data"
    }
   ],
   "source": [
    "y = np.arange(6)\n",
    "\n",
    "# Plot array\n",
    "plt.plot(y)\n",
    "# Set labels\n",
    "plt.ylabel(\"Numbers\") # y label\n",
    "plt.xlabel(\"Autofilled sequence\") # x label\n",
    "plt.show()"
   ]
  },
  {
   "cell_type": "markdown",
   "metadata": {},
   "source": [
    "As you can see, if only a single array is passed to plot(), matplotlib will automatically generate the x-values.\n",
    "\n",
    "The x-values can be defined by passing a second array."
   ]
  },
  {
   "cell_type": "code",
   "execution_count": 29,
   "metadata": {},
   "outputs": [
    {
     "data": {
      "image/png": "[encoded data removed]",
      "text/plain": [
       "<Figure size 432x288 with 1 Axes>"
      ]
     },
     "metadata": {},
     "output_type": "display_data"
    }
   ],
   "source": [
    "x = [0, 10, 20, 30, 40, 50]\n",
    "plt.plot(x,y)\n",
    "plt.show()"
   ]
  },
  {
   "cell_type": "markdown",
   "metadata": {},
   "source": [
    "### Labels and ticks\n",
    "\n",
    "How to label different parts of the plot, add text, and change precision of axes:"
   ]
  },
  {
   "cell_type": "code",
   "execution_count": 30,
   "metadata": {},
   "outputs": [
    {
     "name": "stdout",
     "output_type": "stream",
     "text": [
      "[ 0.   0.5  1.   1.5  2.   2.5  3.   3.5  4.   4.5  5.   5.5  6.   6.5\n",
      "  7.   7.5  8.   8.5  9.   9.5 10.  10.5]\n"
     ]
    },
    {
     "data": {
      "image/png": "[encoded data removed]",
      "text/plain": [
       "<Figure size 432x288 with 1 Axes>"
      ]
     },
     "metadata": {},
     "output_type": "display_data"
    }
   ],
   "source": [
    "a = np.random.random(20)*10\n",
    "ticks = np.arange(0, 11, 0.5)\n",
    "print(ticks)\n",
    "\n",
    "plt.title('Title', color='red', fontsize=20)\n",
    "plt.xlabel('X label', color=(0.3, 0.1, 0.9), fontsize=30)\n",
    "plt.ylabel('Y label')\n",
    "plt.yticks(ticks) # precision of y axis\n",
    "\n",
    "# Add some text\n",
    "plt.text(14, 9, 'Green text', color='green', fontsize=16)\n",
    "\n",
    "# Create annotation\n",
    "plt.annotate('Look at this spot', xy=(4, a[4]), xytext=(3, a[4]+3),\n",
    "             arrowprops=dict(facecolor='black'),)\n",
    "plt.plot(a)\n",
    "plt.show()"
   ]
  },
  {
   "cell_type": "markdown",
   "metadata": {},
   "source": [
    "## Formatting"
   ]
  },
  {
   "cell_type": "markdown",
   "metadata": {},
   "source": [
    "In the plot() parameters you can add a third parameter with a formatting string which specifies the color and line type of the plot. \n",
    "\n",
    "You can use the axis([xmin, xmax, ymin, ymax]) command to specify the viewport of the axes."
   ]
  },
  {
   "cell_type": "code",
   "execution_count": 31,
   "metadata": {},
   "outputs": [
    {
     "data": {
      "image/png": "[encoded data removed]",
      "text/plain": [
       "<Figure size 432x288 with 1 Axes>"
      ]
     },
     "metadata": {},
     "output_type": "display_data"
    },
    {
     "data": {
      "image/png": "[encoded data removed]",
      "text/plain": [
       "<Figure size 432x288 with 1 Axes>"
      ]
     },
     "metadata": {},
     "output_type": "display_data"
    }
   ],
   "source": [
    "# The third parameter 'ro' spesifies that the style should be \n",
    "# red and oval\n",
    "plt.plot([1, 2, 3, 4], [1, 4, 9, 16], 'go')\n",
    "plt.axis([0, 6, 0, 20])\n",
    "plt.show()\n",
    "\n",
    "# The color can alsobe specified with RBG, RGBA or hex strings\n",
    "plt.plot([1, 2, 3, 4], [1, 4, 9, 16], 'o', color=(0.4,0.3,0.8))\n",
    "plt.axis([0, 20, 0, 40])\n",
    "plt.show()"
   ]
  },
  {
   "cell_type": "markdown",
   "metadata": {},
   "source": [
    "Here are some markers, styles and colors that matplotlib offers:"
   ]
  },
  {
   "cell_type": "code",
   "execution_count": 32,
   "metadata": {},
   "outputs": [
    {
     "data": {
      "image/png": "[encoded data removed]",
      "text/plain": [
       "<Figure size 432x288 with 1 Axes>"
      ]
     },
     "metadata": {},
     "output_type": "display_data"
    }
   ],
   "source": [
    "filled_markers = ('o', 'v', '^', '<', '>', '8', 's', \n",
    "                  'p', '*', 'h', 'H', 'D', 'd', 'P', 'X')\n",
    "line_styles = (':', '-,', '--', '-')\n",
    "line_colors = ('b', 'g', 'r', 'c', 'm', 'y', 'k', 'w')\n",
    "\n",
    "y = [3, 16, 14, 26, 32, 44, 5, 8, 10]\n",
    "plt.plot(y, linestyle=line_styles[2], color=line_colors[4], marker=filled_markers[5])\n",
    "plt.show()"
   ]
  },
  {
   "cell_type": "markdown",
   "metadata": {},
   "source": [
    "Serveral lists with different styles can be plotted at the same time:"
   ]
  },
  {
   "cell_type": "code",
   "execution_count": 33,
   "metadata": {},
   "outputs": [
    {
     "data": {
      "image/png": "[encoded data removed]",
      "text/plain": [
       "<Figure size 432x288 with 1 Axes>"
      ]
     },
     "metadata": {},
     "output_type": "display_data"
    }
   ],
   "source": [
    "a = np.arange(0, 3, 0.1)\n",
    "b = a[:] **2\n",
    "c = a[:] **3\n",
    "\n",
    "# red dashes, blue squares and green triangles\n",
    "plt.plot(a, 'r--',\n",
    "         b, 'bs', \n",
    "         c, 'g^')\n",
    "plt.show()"
   ]
  },
  {
   "cell_type": "markdown",
   "metadata": {},
   "source": [
    "### Subplots\n",
    "\n",
    "Multiple plots can be added to the same figure:"
   ]
  },
  {
   "cell_type": "code",
   "execution_count": 34,
   "metadata": {},
   "outputs": [
    {
     "data": {
      "text/plain": [
       "[<matplotlib.lines.Line2D at 0x1ab4a09c400>]"
      ]
     },
     "execution_count": 34,
     "metadata": {},
     "output_type": "execute_result"
    },
    {
     "data": {
      "image/png": "[encoded data removed]",
      "text/plain": [
       "<Figure size 432x288 with 4 Axes>"
      ]
     },
     "metadata": {},
     "output_type": "display_data"
    }
   ],
   "source": [
    "# Creates some random arrays of different sizes and value ranges\n",
    "a1 = np.random.random(20)\n",
    "a2 = np.random.random(30)*2\n",
    "a3 = np.random.random(40)*4\n",
    "a4 = np.random.random(50)*8\n",
    "\n",
    "# Here we create 4 subplots with plt.subplots(numrows, numcolumns, ...)\n",
    "# plt.subplots() returns the subplots and a fig object(the entire figure)\n",
    "fig, ((ax1, ax2), (ax3, ax4)) = plt.subplots(2, 2, sharex=False, sharey=False)\n",
    "ax1.plot(a1)\n",
    "ax2.plot(a2)\n",
    "ax3.plot(a3)\n",
    "ax4.plot(a4)"
   ]
  },
  {
   "cell_type": "markdown",
   "metadata": {},
   "source": [
    "### Different ways to visualize data\n",
    "\n",
    "Matplotlib isn't only able to plot lines. It can be used to visualize a variety of data, from pie charts to images. For subplots you have to call set_ functions, plt.set_title() instead of plt.title() for example. Here are some examples: "
   ]
  },
  {
   "cell_type": "code",
   "execution_count": 35,
   "metadata": {
    "scrolled": true
   },
   "outputs": [
    {
     "data": {
      "text/plain": [
       "<matplotlib.image.AxesImage at 0x1ab4b1e3240>"
      ]
     },
     "execution_count": 35,
     "metadata": {},
     "output_type": "execute_result"
    },
    {
     "data": {
      "image/png": "[encoded data removed]",
      "text/plain": [
       "<Figure size 432x288 with 4 Axes>"
      ]
     },
     "metadata": {},
     "output_type": "display_data"
    }
   ],
   "source": [
    "fig, ((bar_plot, pie_chart), (scatter_plot, image_plot)) = plt.subplots(2, 2, sharex=False, sharey=False)\n",
    "\n",
    "# Bar plot\n",
    "bar_data = np.random.random(5)\n",
    "x = np.arange(5)\n",
    "bar_plot.set_title('Bar plot')\n",
    "bar_plot.bar(x,bar_data)\n",
    "\n",
    "#Pie chart\n",
    "labels = 'Frogs', 'Hogs', 'Dogs', 'Logs'\n",
    "sizes = [15, 30, 45, 10]\n",
    "explode = (0.0, 0.1, 0, 0)  # Extrudes the 'Hogs' slice\n",
    "\n",
    "pie_chart.set_title(\"Pie chart\")\n",
    "pie_chart.pie(sizes, explode=explode, labels=labels, autopct='%0d%%',\n",
    "        shadow=True, startangle=90)\n",
    "pie_chart.axis('equal')  # Ensures chart is drawn as a circle\n",
    "\n",
    "# Scatter plot\n",
    "x = np.random.rand(40)\n",
    "y = np.random.rand(40)\n",
    "scatter_plot.set_title('Scatter plot')\n",
    "scatter_plot.scatter(x, y, color='red')\n",
    "\n",
    "# Image\n",
    "import matplotlib.image as mpimg\n",
    "img=mpimg.imread('dog.jpg')\n",
    "image_plot.imshow(img)\n"
   ]
  },
  {
   "cell_type": "markdown",
   "metadata": {},
   "source": [
    "This overview is just scratching the surface of what you can you in matplotlib. Luckily it is a very well documented library, with examples for just about everything. Go __[here](https://matplotlib.org/api/pyplot_summary.html)__ to see an overview of the pyplot functions."
   ]
  },
  {
   "cell_type": "markdown",
   "metadata": {},
   "source": [
    "# Pandas\n",
    "\n",
    "Library providing high-performance, easy-to-use data structures and data analysis tools for Python. Pandas runs on top of numpy, and is very popular for data science."
   ]
  },
  {
   "cell_type": "markdown",
   "metadata": {},
   "source": [
    "### Installation "
   ]
  },
  {
   "cell_type": "code",
   "execution_count": 36,
   "metadata": {
    "scrolled": true
   },
   "outputs": [
    {
     "name": "stdout",
     "output_type": "stream",
     "text": [
      "Requirement already satisfied: pandas in c:\\users\\jsors\\anaconda3\\lib\\site-packages (0.23.4)\n",
      "Requirement already satisfied: pytz>=2011k in c:\\users\\jsors\\anaconda3\\lib\\site-packages (from pandas) (2018.4)\n",
      "Requirement already satisfied: numpy>=1.9.0 in c:\\users\\jsors\\anaconda3\\lib\\site-packages (from pandas) (1.15.4)\n",
      "Requirement already satisfied: python-dateutil>=2.5.0 in c:\\users\\jsors\\anaconda3\\lib\\site-packages (from pandas) (2.7.3)\n",
      "Requirement already satisfied: six>=1.5 in c:\\users\\jsors\\anaconda3\\lib\\site-packages (from python-dateutil>=2.5.0->pandas) (1.11.0)\n"
     ]
    },
    {
     "name": "stderr",
     "output_type": "stream",
     "text": [
      "You are using pip version 18.1, however version 19.0.1 is available.\n",
      "You should consider upgrading via the 'python -m pip install --upgrade pip' command.\n"
     ]
    },
    {
     "name": "stdout",
     "output_type": "stream",
     "text": [
      "Requirement already satisfied: numpy in c:\\users\\jsors\\anaconda3\\lib\\site-packages (1.15.4)\n"
     ]
    },
    {
     "name": "stderr",
     "output_type": "stream",
     "text": [
      "You are using pip version 18.1, however version 19.0.1 is available.\n",
      "You should consider upgrading via the 'python -m pip install --upgrade pip' command.\n"
     ]
    }
   ],
   "source": [
    "!pip install pandas\n",
    "!pip install numpy\n",
    "\n",
    "import numpy as np\n",
    "import pandas as pd"
   ]
  },
  {
   "cell_type": "markdown",
   "metadata": {},
   "source": [
    "### Reading data"
   ]
  },
  {
   "cell_type": "code",
   "execution_count": 37,
   "metadata": {},
   "outputs": [
    {
     "data": {
      "text/html": [
       "<div>\n",
       "<style scoped>\n",
       "    .dataframe tbody tr th:only-of-type {\n",
       "        vertical-align: middle;\n",
       "    }\n",
       "\n",
       "    .dataframe tbody tr th {\n",
       "        vertical-align: top;\n",
       "    }\n",
       "\n",
       "    .dataframe thead th {\n",
       "        text-align: right;\n",
       "    }\n",
       "</style>\n",
       "<table border=\"1\" class=\"dataframe\">\n",
       "  <thead>\n",
       "    <tr style=\"text-align: right;\">\n",
       "      <th></th>\n",
       "      <th>fixed acidity</th>\n",
       "      <th>volatile acidity</th>\n",
       "      <th>citric acid</th>\n",
       "      <th>residual sugar</th>\n",
       "      <th>chlorides</th>\n",
       "      <th>free sulfur dioxide</th>\n",
       "      <th>total sulfur dioxide</th>\n",
       "      <th>density</th>\n",
       "      <th>pH</th>\n",
       "      <th>sulphates</th>\n",
       "      <th>alcohol</th>\n",
       "      <th>quality</th>\n",
       "    </tr>\n",
       "  </thead>\n",
       "  <tbody>\n",
       "    <tr>\n",
       "      <th>0</th>\n",
       "      <td>7.0</td>\n",
       "      <td>0.27</td>\n",
       "      <td>0.36</td>\n",
       "      <td>20.7</td>\n",
       "      <td>0.045</td>\n",
       "      <td>45.0</td>\n",
       "      <td>170.0</td>\n",
       "      <td>1.0010</td>\n",
       "      <td>3.00</td>\n",
       "      <td>0.45</td>\n",
       "      <td>8.8</td>\n",
       "      <td>6</td>\n",
       "    </tr>\n",
       "    <tr>\n",
       "      <th>1</th>\n",
       "      <td>6.3</td>\n",
       "      <td>0.30</td>\n",
       "      <td>0.34</td>\n",
       "      <td>1.6</td>\n",
       "      <td>0.049</td>\n",
       "      <td>14.0</td>\n",
       "      <td>132.0</td>\n",
       "      <td>0.9940</td>\n",
       "      <td>3.30</td>\n",
       "      <td>0.49</td>\n",
       "      <td>9.5</td>\n",
       "      <td>6</td>\n",
       "    </tr>\n",
       "    <tr>\n",
       "      <th>2</th>\n",
       "      <td>8.1</td>\n",
       "      <td>0.28</td>\n",
       "      <td>0.40</td>\n",
       "      <td>6.9</td>\n",
       "      <td>0.050</td>\n",
       "      <td>30.0</td>\n",
       "      <td>97.0</td>\n",
       "      <td>0.9951</td>\n",
       "      <td>3.26</td>\n",
       "      <td>0.44</td>\n",
       "      <td>10.1</td>\n",
       "      <td>6</td>\n",
       "    </tr>\n",
       "    <tr>\n",
       "      <th>3</th>\n",
       "      <td>7.2</td>\n",
       "      <td>0.23</td>\n",
       "      <td>0.32</td>\n",
       "      <td>8.5</td>\n",
       "      <td>0.058</td>\n",
       "      <td>47.0</td>\n",
       "      <td>186.0</td>\n",
       "      <td>0.9956</td>\n",
       "      <td>3.19</td>\n",
       "      <td>0.40</td>\n",
       "      <td>9.9</td>\n",
       "      <td>6</td>\n",
       "    </tr>\n",
       "    <tr>\n",
       "      <th>4</th>\n",
       "      <td>7.2</td>\n",
       "      <td>0.23</td>\n",
       "      <td>0.32</td>\n",
       "      <td>8.5</td>\n",
       "      <td>0.058</td>\n",
       "      <td>47.0</td>\n",
       "      <td>186.0</td>\n",
       "      <td>0.9956</td>\n",
       "      <td>3.19</td>\n",
       "      <td>0.40</td>\n",
       "      <td>9.9</td>\n",
       "      <td>6</td>\n",
       "    </tr>\n",
       "    <tr>\n",
       "      <th>5</th>\n",
       "      <td>8.1</td>\n",
       "      <td>0.28</td>\n",
       "      <td>0.40</td>\n",
       "      <td>6.9</td>\n",
       "      <td>0.050</td>\n",
       "      <td>30.0</td>\n",
       "      <td>97.0</td>\n",
       "      <td>0.9951</td>\n",
       "      <td>3.26</td>\n",
       "      <td>0.44</td>\n",
       "      <td>10.1</td>\n",
       "      <td>6</td>\n",
       "    </tr>\n",
       "    <tr>\n",
       "      <th>6</th>\n",
       "      <td>6.2</td>\n",
       "      <td>0.32</td>\n",
       "      <td>0.16</td>\n",
       "      <td>7.0</td>\n",
       "      <td>0.045</td>\n",
       "      <td>30.0</td>\n",
       "      <td>136.0</td>\n",
       "      <td>0.9949</td>\n",
       "      <td>3.18</td>\n",
       "      <td>0.47</td>\n",
       "      <td>9.6</td>\n",
       "      <td>6</td>\n",
       "    </tr>\n",
       "    <tr>\n",
       "      <th>7</th>\n",
       "      <td>7.0</td>\n",
       "      <td>0.27</td>\n",
       "      <td>0.36</td>\n",
       "      <td>20.7</td>\n",
       "      <td>0.045</td>\n",
       "      <td>45.0</td>\n",
       "      <td>170.0</td>\n",
       "      <td>1.0010</td>\n",
       "      <td>3.00</td>\n",
       "      <td>0.45</td>\n",
       "      <td>8.8</td>\n",
       "      <td>6</td>\n",
       "    </tr>\n",
       "    <tr>\n",
       "      <th>8</th>\n",
       "      <td>6.3</td>\n",
       "      <td>0.30</td>\n",
       "      <td>0.34</td>\n",
       "      <td>1.6</td>\n",
       "      <td>0.049</td>\n",
       "      <td>14.0</td>\n",
       "      <td>132.0</td>\n",
       "      <td>0.9940</td>\n",
       "      <td>3.30</td>\n",
       "      <td>0.49</td>\n",
       "      <td>9.5</td>\n",
       "      <td>6</td>\n",
       "    </tr>\n",
       "    <tr>\n",
       "      <th>9</th>\n",
       "      <td>8.1</td>\n",
       "      <td>0.22</td>\n",
       "      <td>0.43</td>\n",
       "      <td>1.5</td>\n",
       "      <td>0.044</td>\n",
       "      <td>28.0</td>\n",
       "      <td>129.0</td>\n",
       "      <td>0.9938</td>\n",
       "      <td>3.22</td>\n",
       "      <td>0.45</td>\n",
       "      <td>11.0</td>\n",
       "      <td>6</td>\n",
       "    </tr>\n",
       "  </tbody>\n",
       "</table>\n",
       "</div>"
      ],
      "text/plain": [
       "   fixed acidity  volatile acidity  citric acid  residual sugar  chlorides  \\\n",
       "0            7.0              0.27         0.36            20.7      0.045   \n",
       "1            6.3              0.30         0.34             1.6      0.049   \n",
       "2            8.1              0.28         0.40             6.9      0.050   \n",
       "3            7.2              0.23         0.32             8.5      0.058   \n",
       "4            7.2              0.23         0.32             8.5      0.058   \n",
       "5            8.1              0.28         0.40             6.9      0.050   \n",
       "6            6.2              0.32         0.16             7.0      0.045   \n",
       "7            7.0              0.27         0.36            20.7      0.045   \n",
       "8            6.3              0.30         0.34             1.6      0.049   \n",
       "9            8.1              0.22         0.43             1.5      0.044   \n",
       "\n",
       "   free sulfur dioxide  total sulfur dioxide  density    pH  sulphates  \\\n",
       "0                 45.0                 170.0   1.0010  3.00       0.45   \n",
       "1                 14.0                 132.0   0.9940  3.30       0.49   \n",
       "2                 30.0                  97.0   0.9951  3.26       0.44   \n",
       "3                 47.0                 186.0   0.9956  3.19       0.40   \n",
       "4                 47.0                 186.0   0.9956  3.19       0.40   \n",
       "5                 30.0                  97.0   0.9951  3.26       0.44   \n",
       "6                 30.0                 136.0   0.9949  3.18       0.47   \n",
       "7                 45.0                 170.0   1.0010  3.00       0.45   \n",
       "8                 14.0                 132.0   0.9940  3.30       0.49   \n",
       "9                 28.0                 129.0   0.9938  3.22       0.45   \n",
       "\n",
       "   alcohol  quality  \n",
       "0      8.8        6  \n",
       "1      9.5        6  \n",
       "2     10.1        6  \n",
       "3      9.9        6  \n",
       "4      9.9        6  \n",
       "5     10.1        6  \n",
       "6      9.6        6  \n",
       "7      8.8        6  \n",
       "8      9.5        6  \n",
       "9     11.0        6  "
      ]
     },
     "execution_count": 37,
     "metadata": {},
     "output_type": "execute_result"
    }
   ],
   "source": [
    "df = pd.read_csv('winequality-white.csv', delimiter = ';')\n",
    "\n",
    "# Prints the first 10 rows\n",
    "df.head(10)"
   ]
  },
  {
   "cell_type": "markdown",
   "metadata": {},
   "source": [
    "Extracting columns from the data frame:"
   ]
  },
  {
   "cell_type": "code",
   "execution_count": 38,
   "metadata": {},
   "outputs": [
    {
     "data": {
      "text/html": [
       "<div>\n",
       "<style scoped>\n",
       "    .dataframe tbody tr th:only-of-type {\n",
       "        vertical-align: middle;\n",
       "    }\n",
       "\n",
       "    .dataframe tbody tr th {\n",
       "        vertical-align: top;\n",
       "    }\n",
       "\n",
       "    .dataframe thead th {\n",
       "        text-align: right;\n",
       "    }\n",
       "</style>\n",
       "<table border=\"1\" class=\"dataframe\">\n",
       "  <thead>\n",
       "    <tr style=\"text-align: right;\">\n",
       "      <th></th>\n",
       "      <th>fixed acidity</th>\n",
       "    </tr>\n",
       "  </thead>\n",
       "  <tbody>\n",
       "    <tr>\n",
       "      <th>0</th>\n",
       "      <td>7.0</td>\n",
       "    </tr>\n",
       "    <tr>\n",
       "      <th>1</th>\n",
       "      <td>6.3</td>\n",
       "    </tr>\n",
       "    <tr>\n",
       "      <th>2</th>\n",
       "      <td>8.1</td>\n",
       "    </tr>\n",
       "    <tr>\n",
       "      <th>3</th>\n",
       "      <td>7.2</td>\n",
       "    </tr>\n",
       "    <tr>\n",
       "      <th>4</th>\n",
       "      <td>7.2</td>\n",
       "    </tr>\n",
       "  </tbody>\n",
       "</table>\n",
       "</div>"
      ],
      "text/plain": [
       "   fixed acidity\n",
       "0            7.0\n",
       "1            6.3\n",
       "2            8.1\n",
       "3            7.2\n",
       "4            7.2"
      ]
     },
     "execution_count": 38,
     "metadata": {},
     "output_type": "execute_result"
    }
   ],
   "source": [
    "# Extracting the column labeled 'fixed acidity'\n",
    "fixed_acidity = df[['fixed acidity']]\n",
    "fixed_acidity.head()"
   ]
  },
  {
   "cell_type": "code",
   "execution_count": 40,
   "metadata": {},
   "outputs": [
    {
     "name": "stdout",
     "output_type": "stream",
     "text": [
      "0 0.36 3.0 6.0\n",
      "1 0.34 3.3 6.0\n",
      "2 0.4 3.26 6.0\n",
      "3 0.32 3.19 6.0\n",
      "4 0.32 3.19 6.0\n"
     ]
    }
   ],
   "source": [
    "# Extracting the columns 'citric acid', 'pH' and 'quality'\n",
    "some_data = df[['citric acid', 'pH', 'quality']]\n",
    "some_data.head()\n",
    "\n",
    "for index, row in some_data.head().iterrows():\n",
    "     print(index, row['citric acid'], row['pH'], row['quality'])"
   ]
  },
  {
   "cell_type": "markdown",
   "metadata": {},
   "source": [
    "Pandas can show a description of all the data in every column with the describe() method. This is very useful for getting an overview of the data in large datasets. "
   ]
  },
  {
   "cell_type": "code",
   "execution_count": null,
   "metadata": {},
   "outputs": [],
   "source": [
    "df.describe()"
   ]
  },
  {
   "cell_type": "markdown",
   "metadata": {},
   "source": [
    "Say you want to find the quality of the wine based upon the amount of citric acid and the pH value. In pandas you can use sort_values(['column name']) to sort data by a column:"
   ]
  },
  {
   "cell_type": "code",
   "execution_count": null,
   "metadata": {},
   "outputs": [],
   "source": [
    "# some_data contains the columns 'citric acid', 'pH' and 'quality'\n",
    "quality_sorted = some_data.sort_values(['quality'], ascending=False)\n",
    "quality_sorted.head(10)"
   ]
  },
  {
   "cell_type": "markdown",
   "metadata": {},
   "source": [
    "### Plotting in pandas\n",
    "\n",
    "Pandas has matplotlib built in, so it is easy to plot a dataframe:"
   ]
  },
  {
   "cell_type": "code",
   "execution_count": null,
   "metadata": {},
   "outputs": [],
   "source": [
    "quality_sorted = quality_sorted\n",
    "quality_sorted.plot()"
   ]
  },
  {
   "cell_type": "markdown",
   "metadata": {},
   "source": [
    "### Creating data frames\n",
    "\n",
    "You can also create data frames in pandas:"
   ]
  },
  {
   "cell_type": "code",
   "execution_count": null,
   "metadata": {},
   "outputs": [],
   "source": [
    "index = pd.date_range('1/1/2000', periods=40)\n",
    "s = pd.Series(np.random.randn(5), index=['a', 'b', 'c', 'd', 'e'])\n",
    "\n",
    "df = pd.DataFrame(np.random.randn(40, 3), index=index, columns=['A', 'B', 'C'])\n",
    "display(df.head())\n",
    "df.plot()"
   ]
  },
  {
   "cell_type": "code",
   "execution_count": null,
   "metadata": {},
   "outputs": [],
   "source": []
  }
 ],
 "metadata": {
  "kernelspec": {
   "display_name": "Python 3",
   "language": "python",
   "name": "python3"
  },
  "language_info": {
   "codemirror_mode": {
    "name": "ipython",
    "version": 3
   },
   "file_extension": ".py",
   "mimetype": "text/x-python",
   "name": "python",
   "nbconvert_exporter": "python",
   "pygments_lexer": "ipython3",
   "version": "3.6.5"
  }
 },
 "nbformat": 4,
 "nbformat_minor": 2
}
